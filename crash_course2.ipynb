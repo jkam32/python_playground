{
 "cells": [
  {
   "cell_type": "code",
   "execution_count": 6,
   "metadata": {},
   "outputs": [
    {
     "data": {
      "text/plain": [
       "'C:\\\\Users\\\\Calvin\\\\PycharmProjects'"
      ]
     },
     "execution_count": 6,
     "metadata": {},
     "output_type": "execute_result"
    }
   ],
   "source": [
    "import os\n",
    "os.getcwd()\n",
    "os.chdir(\"/Users/Calvin/PycharmProjects/\")\n",
    "os.getcwd()"
   ]
  },
  {
   "cell_type": "markdown",
   "metadata": {},
   "source": [
    "### Trying some os functions\n"
   ]
  },
  {
   "cell_type": "code",
   "execution_count": 7,
   "metadata": {},
   "outputs": [
    {
     "data": {
      "text/plain": [
       "'C:/Users/Calvin/PycharmProjects/Python-playground/humansize.py'"
      ]
     },
     "execution_count": 7,
     "metadata": {},
     "output_type": "execute_result"
    }
   ],
   "source": [
    "os.path.join(\"C:/Users/Calvin/PycharmProjects/Python-playground/\", \"humansize.py\")"
   ]
  },
  {
   "cell_type": "code",
   "execution_count": 8,
   "metadata": {},
   "outputs": [
    {
     "data": {
      "text/plain": [
       "'C:/Users/Calvin/PycharmProjects/Python-playground\\\\humansize.py'"
      ]
     },
     "execution_count": 8,
     "metadata": {},
     "output_type": "execute_result"
    }
   ],
   "source": [
    "# forward slash will be used if you do not include backslash at the end\n",
    "os.path.join(\"C:/Users/Calvin/PycharmProjects/Python-playground\", \"humansize.py\")"
   ]
  },
  {
   "cell_type": "code",
   "execution_count": 10,
   "metadata": {},
   "outputs": [
    {
     "data": {
      "text/plain": [
       "'C:\\\\Users\\\\Calvin'"
      ]
     },
     "execution_count": 10,
     "metadata": {},
     "output_type": "execute_result"
    }
   ],
   "source": [
    "os.path.expanduser(\"~\")"
   ]
  },
  {
   "cell_type": "code",
   "execution_count": 11,
   "metadata": {},
   "outputs": [
    {
     "data": {
      "text/plain": [
       "'C:\\\\Users\\\\Calvin\\\\PycharmProjects\\\\Python-playground\\\\humansize.py'"
      ]
     },
     "execution_count": 11,
     "metadata": {},
     "output_type": "execute_result"
    }
   ],
   "source": [
    "os.path.join(os.path.expanduser(\"~\"), \"PycharmProjects\", \"Python-playground\", \"humansize.py\")"
   ]
  },
  {
   "cell_type": "code",
   "execution_count": 16,
   "metadata": {},
   "outputs": [
    {
     "data": {
      "text/plain": [
       "('/Users/Calvin/PycharmProjects/Python-playground/python_playground',\n",
       " 'humansize.py')"
      ]
     },
     "execution_count": 16,
     "metadata": {},
     "output_type": "execute_result"
    }
   ],
   "source": [
    "pathname = \"/Users/Calvin/PycharmProjects/Python-playground/python_playground/humansize.py\"\n",
    "os.path.split(pathname)"
   ]
  },
  {
   "cell_type": "code",
   "execution_count": 18,
   "metadata": {},
   "outputs": [
    {
     "name": "stdout",
     "output_type": "stream",
     "text": [
      "/Users/Calvin/PycharmProjects/Python-playground/python_playground\n",
      "humansize.py\n"
     ]
    }
   ],
   "source": [
    "(extension, filename) = os.path.split(pathname)\n",
    "print(extension)\n",
    "print(filename)"
   ]
  },
  {
   "cell_type": "code",
   "execution_count": 23,
   "metadata": {},
   "outputs": [
    {
     "name": "stdout",
     "output_type": "stream",
     "text": [
      "humansize\n",
      ".py\n"
     ]
    }
   ],
   "source": [
    "os.path.splitext(filename) # splits on the period\n",
    "(name, ext) = os.path.splitext(filename)\n",
    "print(name)\n",
    "print(ext)"
   ]
  },
  {
   "cell_type": "code",
   "execution_count": 22,
   "metadata": {},
   "outputs": [
    {
     "name": "stdout",
     "output_type": "stream",
     "text": [
      "Help on function splitext in module ntpath:\n",
      "\n",
      "splitext(p)\n",
      "    Split the extension from a pathname.\n",
      "    \n",
      "    Extension is everything from the last dot to the end, ignoring\n",
      "    leading dots.  Returns \"(root, ext)\"; ext may be empty.\n",
      "\n"
     ]
    }
   ],
   "source": [
    "help(os.path.splitext)"
   ]
  },
  {
   "cell_type": "code",
   "execution_count": 33,
   "metadata": {},
   "outputs": [
    {
     "data": {
      "text/plain": [
       "['Downloads\\\\cc_approvals_by_account.csv',\n",
       " 'Downloads\\\\cc_approvals_by_account_cleaned_v2.csv',\n",
       " 'Downloads\\\\CRCDPL4.csv',\n",
       " 'Downloads\\\\CRCDPL4_approved.csv',\n",
       " 'Downloads\\\\CSR_inbound_calls_worksheet_crosstab.csv',\n",
       " 'Downloads\\\\lead_accounts_v2.csv',\n",
       " 'Downloads\\\\Non-Cohort_SORA_Funnel_(Net_of_Ineligible)_crosstab.csv',\n",
       " 'Downloads\\\\Qualified_Leads_data (1).csv',\n",
       " 'Downloads\\\\Qualified_Leads_data.csv',\n",
       " 'Downloads\\\\query_result_2018-08-08T02_27_40.480Z.csv',\n",
       " 'Downloads\\\\query_result_2018-08-09T07_41_31.877Z.csv',\n",
       " 'Downloads\\\\query_result_2018-08-09T10_49_27.418Z.csv',\n",
       " 'Downloads\\\\query_result_2018-08-09T11_12_22.950Z.csv',\n",
       " 'Downloads\\\\query_result_2018-08-10T04_09_26.038Z.csv',\n",
       " 'Downloads\\\\query_result_2018-08-10T04_42_18.892Z.csv',\n",
       " 'Downloads\\\\query_result_2018-08-10T09_43_47.500Z.csv',\n",
       " 'Downloads\\\\query_result_2018-08-13T03_42_27.854Z.csv',\n",
       " 'Downloads\\\\query_result_2018-08-13T06_41_40.158Z.csv',\n",
       " 'Downloads\\\\query_result_2018-08-13T07_25_11.981Z.csv',\n",
       " 'Downloads\\\\query_result_2018-08-20T03_05_23.194Z.csv',\n",
       " 'Downloads\\\\query_result_2018-08-20T03_30_31.315Z.csv',\n",
       " 'Downloads\\\\query_result_2018-08-20T03_36_50.833Z.csv',\n",
       " 'Downloads\\\\query_result_2018-08-20T08_48_43.429Z.csv',\n",
       " 'Downloads\\\\query_result_2018-08-21T08_57_39.680Z.csv',\n",
       " 'Downloads\\\\query_result_2018-08-21T10_39_51.728Z.csv',\n",
       " 'Downloads\\\\query_result_2018-08-27T03_46_07.200Z.csv',\n",
       " 'Downloads\\\\query_result_2018-08-29T04_51_15.729Z.csv',\n",
       " 'Downloads\\\\query_result_2018-09-04T06_57_02.422Z.csv',\n",
       " 'Downloads\\\\query_result_2018-09-04T07_08_32.362Z.csv',\n",
       " 'Downloads\\\\query_result_2018-09-05T02_33_15.382Z.csv',\n",
       " 'Downloads\\\\raw pbx for double checking against the dashboard data.csv',\n",
       " 'Downloads\\\\train.csv',\n",
       " 'Downloads\\\\xa_cohort_report-145809436720160328065241.csv']"
      ]
     },
     "execution_count": 33,
     "metadata": {},
     "output_type": "execute_result"
    }
   ],
   "source": [
    "import glob\n",
    "os.chdir(\"C:/Users/Calvin/\")\n",
    "# search csv files using a relative pathname\n",
    "glob.glob(\"Downloads/*.csv\")"
   ]
  },
  {
   "cell_type": "code",
   "execution_count": 45,
   "metadata": {},
   "outputs": [
    {
     "data": {
      "text/plain": [
       "time.struct_time(tm_year=2018, tm_mon=7, tm_mday=18, tm_hour=19, tm_min=19, tm_sec=39, tm_wday=2, tm_yday=199, tm_isdst=0)"
      ]
     },
     "execution_count": 45,
     "metadata": {},
     "output_type": "execute_result"
    }
   ],
   "source": [
    "# file metadata\n",
    "os.chdir(\"/Users/Calvin/Desktop/\")\n",
    "os.getcwd()\n",
    "metadata = os.stat(\"probability_cheatsheet.pdf\") #unreadable format\n",
    "metadata.st_mtime\n",
    "import time\n",
    "time.localtime(metadata.st_mtime)"
   ]
  },
  {
   "cell_type": "code",
   "execution_count": 50,
   "metadata": {},
   "outputs": [
    {
     "data": {
      "text/plain": [
       "'789.3 KiB'"
      ]
     },
     "execution_count": 50,
     "metadata": {},
     "output_type": "execute_result"
    }
   ],
   "source": [
    "metadata.st_size\n",
    "os.chdir(\"/Users/Calvin/PycharmProjects/Python-playground/python_playground/\")\n",
    "import humansize\n",
    "humansize.approximate_size(metadata.st_size)"
   ]
  },
  {
   "cell_type": "code",
   "execution_count": 51,
   "metadata": {},
   "outputs": [
    {
     "data": {
      "text/plain": [
       "'C:\\\\Users\\\\Calvin\\\\PycharmProjects\\\\Python-playground\\\\python_playground\\\\humansize.py'"
      ]
     },
     "execution_count": 51,
     "metadata": {},
     "output_type": "execute_result"
    }
   ],
   "source": [
    "# getting the absolute pathname of a file\n",
    "os.path.realpath(\"humansize.py\")"
   ]
  },
  {
   "cell_type": "markdown",
   "metadata": {},
   "source": [
    "### List Comprehension"
   ]
  },
  {
   "cell_type": "code",
   "execution_count": 53,
   "metadata": {},
   "outputs": [
    {
     "data": {
      "text/plain": [
       "[1, 2, 3, 4]"
      ]
     },
     "execution_count": 53,
     "metadata": {},
     "output_type": "execute_result"
    }
   ],
   "source": [
    "a_list = [1, 2, 3, 4]\n",
    "a_list"
   ]
  },
  {
   "cell_type": "code",
   "execution_count": 55,
   "metadata": {},
   "outputs": [
    {
     "data": {
      "text/plain": [
       "[1, 4, 9, 16]"
      ]
     },
     "execution_count": 55,
     "metadata": {},
     "output_type": "execute_result"
    }
   ],
   "source": [
    "[i ** 2 for i in a_list]"
   ]
  },
  {
   "cell_type": "code",
   "execution_count": 59,
   "metadata": {},
   "outputs": [
    {
     "data": {
      "text/plain": [
       "[2, 3, 4, 5]"
      ]
     },
     "execution_count": 59,
     "metadata": {},
     "output_type": "execute_result"
    }
   ],
   "source": [
    "a_list = [1, 2, 3, 4]\n",
    "[i + 1 for i in a_list]\n",
    "a_list = [i + 1 for i in a_list]\n",
    "a_list"
   ]
  },
  {
   "cell_type": "code",
   "execution_count": 62,
   "metadata": {},
   "outputs": [
    {
     "data": {
      "text/plain": [
       "['C:\\\\Users\\\\Calvin\\\\Desktop\\\\Applied Logistic Regression Hosmer-Lemeshow.pdf',\n",
       " 'C:\\\\Users\\\\Calvin\\\\Desktop\\\\Dayli Intelligence Company Profile_July.pdf',\n",
       " 'C:\\\\Users\\\\Calvin\\\\Desktop\\\\intro_prob.pdf',\n",
       " 'C:\\\\Users\\\\Calvin\\\\Desktop\\\\ISLR Seventh Printing.pdf',\n",
       " 'C:\\\\Users\\\\Calvin\\\\Desktop\\\\John_K_Kruschke-Doing_Bayesian_Data_Analysis-EN.pdf',\n",
       " 'C:\\\\Users\\\\Calvin\\\\Desktop\\\\Kruschke-Liddell2018_Article_BayesianDataAnalysisForNewcome.pdf',\n",
       " 'C:\\\\Users\\\\Calvin\\\\Desktop\\\\Market Segmentation Analysis -Understanding It, Doing It and Making It Useful.pdf',\n",
       " 'C:\\\\Users\\\\Calvin\\\\Desktop\\\\mkt_dashboard_nirvana_mcdaniel_0.pdf',\n",
       " 'C:\\\\Users\\\\Calvin\\\\Desktop\\\\probability_cheatsheet.pdf',\n",
       " 'C:\\\\Users\\\\Calvin\\\\Desktop\\\\ProbStatBook.pdf',\n",
       " 'C:\\\\Users\\\\Calvin\\\\Desktop\\\\Python Programming An Introduction to Computer Science.pdf',\n",
       " 'C:\\\\Users\\\\Calvin\\\\Desktop\\\\Quick-Win Project for Jirnexu_August_2018.pdf',\n",
       " 'C:\\\\Users\\\\Calvin\\\\Desktop\\\\Sharma-CreditScoring.pdf',\n",
       " \"C:\\\\Users\\\\Calvin\\\\Desktop\\\\The Hitchiker's Guide to Python.pdf\",\n",
       " 'C:\\\\Users\\\\Calvin\\\\Desktop\\\\the_marketing_analytics_evolution_whitepaper_final.pdf',\n",
       " 'C:\\\\Users\\\\Calvin\\\\Desktop\\\\whitepaper_visual-analysis-guidebook_0.pdf']"
      ]
     },
     "execution_count": 62,
     "metadata": {},
     "output_type": "execute_result"
    }
   ],
   "source": [
    "# try using list comprenhension to return a list of absolute pathnames\n",
    "os.chdir(\"/Users/Calvin/Desktop/\")\n",
    "\n",
    "# returns absolute paths of all desktop pdf files\n",
    "[os.path.realpath(i) for i in glob.glob(\"*.pdf\")]"
   ]
  },
  {
   "cell_type": "code",
   "execution_count": 65,
   "metadata": {},
   "outputs": [
    {
     "data": {
      "text/plain": [
       "['Applied Logistic Regression Hosmer-Lemeshow.pdf',\n",
       " 'Dayli Intelligence Company Profile_July.pdf',\n",
       " 'ISLR Seventh Printing.pdf',\n",
       " 'John_K_Kruschke-Doing_Bayesian_Data_Analysis-EN.pdf',\n",
       " 'Kruschke-Liddell2018_Article_BayesianDataAnalysisForNewcome.pdf',\n",
       " 'Market Segmentation Analysis -Understanding It, Doing It and Making It Useful.pdf',\n",
       " 'mkt_dashboard_nirvana_mcdaniel_0.pdf',\n",
       " 'probability_cheatsheet.pdf',\n",
       " 'ProbStatBook.pdf',\n",
       " 'Python Programming An Introduction to Computer Science.pdf',\n",
       " 'Quick-Win Project for Jirnexu_August_2018.pdf',\n",
       " 'Sharma-CreditScoring.pdf',\n",
       " \"The Hitchiker's Guide to Python.pdf\",\n",
       " 'whitepaper_visual-analysis-guidebook_0.pdf']"
      ]
     },
     "execution_count": 65,
     "metadata": {},
     "output_type": "execute_result"
    }
   ],
   "source": [
    "[i for i in glob.glob(\"*.pdf\") if os.stat(i).st_size > 500000] # retain all pdf files that are > 500000 bytes"
   ]
  },
  {
   "cell_type": "code",
   "execution_count": 68,
   "metadata": {},
   "outputs": [
    {
     "data": {
      "text/plain": [
       "[('15.5 MiB',\n",
       "  'C:\\\\Users\\\\Calvin\\\\Desktop\\\\Applied Logistic Regression Hosmer-Lemeshow.pdf'),\n",
       " ('2.9 MiB',\n",
       "  'C:\\\\Users\\\\Calvin\\\\Desktop\\\\Dayli Intelligence Company Profile_July.pdf'),\n",
       " ('304.6 KiB', 'C:\\\\Users\\\\Calvin\\\\Desktop\\\\intro_prob.pdf'),\n",
       " ('10.6 MiB', 'C:\\\\Users\\\\Calvin\\\\Desktop\\\\ISLR Seventh Printing.pdf'),\n",
       " ('22.6 MiB',\n",
       "  'C:\\\\Users\\\\Calvin\\\\Desktop\\\\John_K_Kruschke-Doing_Bayesian_Data_Analysis-EN.pdf'),\n",
       " ('1.3 MiB',\n",
       "  'C:\\\\Users\\\\Calvin\\\\Desktop\\\\Kruschke-Liddell2018_Article_BayesianDataAnalysisForNewcome.pdf'),\n",
       " ('7.4 MiB',\n",
       "  'C:\\\\Users\\\\Calvin\\\\Desktop\\\\Market Segmentation Analysis -Understanding It, Doing It and Making It Useful.pdf'),\n",
       " ('1.0 MiB',\n",
       "  'C:\\\\Users\\\\Calvin\\\\Desktop\\\\mkt_dashboard_nirvana_mcdaniel_0.pdf'),\n",
       " ('789.3 KiB', 'C:\\\\Users\\\\Calvin\\\\Desktop\\\\probability_cheatsheet.pdf'),\n",
       " ('7.8 MiB', 'C:\\\\Users\\\\Calvin\\\\Desktop\\\\ProbStatBook.pdf'),\n",
       " ('5.7 MiB',\n",
       "  'C:\\\\Users\\\\Calvin\\\\Desktop\\\\Python Programming An Introduction to Computer Science.pdf'),\n",
       " ('597.4 KiB',\n",
       "  'C:\\\\Users\\\\Calvin\\\\Desktop\\\\Quick-Win Project for Jirnexu_August_2018.pdf'),\n",
       " ('590.6 KiB', 'C:\\\\Users\\\\Calvin\\\\Desktop\\\\Sharma-CreditScoring.pdf'),\n",
       " ('10.6 MiB',\n",
       "  \"C:\\\\Users\\\\Calvin\\\\Desktop\\\\The Hitchiker's Guide to Python.pdf\"),\n",
       " ('205.5 KiB',\n",
       "  'C:\\\\Users\\\\Calvin\\\\Desktop\\\\the_marketing_analytics_evolution_whitepaper_final.pdf'),\n",
       " ('3.9 MiB',\n",
       "  'C:\\\\Users\\\\Calvin\\\\Desktop\\\\whitepaper_visual-analysis-guidebook_0.pdf')]"
      ]
     },
     "execution_count": 68,
     "metadata": {},
     "output_type": "execute_result"
    }
   ],
   "source": [
    "# try returning the results in a turple, embedded in a list\n",
    "import humansize\n",
    "[(humansize.approximate_size(os.stat(i).st_size), os.path.realpath(i)) for i in glob.glob(\"*.pdf\")]"
   ]
  },
  {
   "cell_type": "markdown",
   "metadata": {},
   "source": [
    "### Dictionary Comprehension"
   ]
  },
  {
   "cell_type": "code",
   "execution_count": null,
   "metadata": {},
   "outputs": [],
   "source": [
    "# repeat the list example, except using a dictionary\n"
   ]
  },
  {
   "cell_type": "code",
   "execution_count": 72,
   "metadata": {},
   "outputs": [
    {
     "data": {
      "text/plain": [
       "'C:\\\\Users\\\\Calvin\\\\Desktop\\\\Applied Logistic Regression Hosmer-Lemeshow.pdf'"
      ]
     },
     "execution_count": 72,
     "metadata": {},
     "output_type": "execute_result"
    }
   ],
   "source": [
    "foo_dict = {f:os.path.realpath(f) for f in glob.glob(\"*.pdf\")}\n",
    "foo_dict[\"Applied Logistic Regression Hosmer-Lemeshow.pdf\"]"
   ]
  },
  {
   "cell_type": "code",
   "execution_count": 74,
   "metadata": {},
   "outputs": [
    {
     "data": {
      "text/plain": [
       "['Applied Logistic Regression Hosmer-Lemeshow.pdf',\n",
       " 'Dayli Intelligence Company Profile_July.pdf',\n",
       " 'intro_prob.pdf',\n",
       " 'ISLR Seventh Printing.pdf',\n",
       " 'John_K_Kruschke-Doing_Bayesian_Data_Analysis-EN.pdf',\n",
       " 'Kruschke-Liddell2018_Article_BayesianDataAnalysisForNewcome.pdf',\n",
       " 'Market Segmentation Analysis -Understanding It, Doing It and Making It Useful.pdf',\n",
       " 'mkt_dashboard_nirvana_mcdaniel_0.pdf',\n",
       " 'probability_cheatsheet.pdf',\n",
       " 'ProbStatBook.pdf',\n",
       " 'Python Programming An Introduction to Computer Science.pdf',\n",
       " 'Quick-Win Project for Jirnexu_August_2018.pdf',\n",
       " 'Sharma-CreditScoring.pdf',\n",
       " \"The Hitchiker's Guide to Python.pdf\",\n",
       " 'the_marketing_analytics_evolution_whitepaper_final.pdf',\n",
       " 'whitepaper_visual-analysis-guidebook_0.pdf']"
      ]
     },
     "execution_count": 74,
     "metadata": {},
     "output_type": "execute_result"
    }
   ],
   "source": [
    "list(foo_dict.keys())"
   ]
  },
  {
   "cell_type": "code",
   "execution_count": 77,
   "metadata": {},
   "outputs": [
    {
     "data": {
      "text/plain": [
       "4570111"
      ]
     },
     "execution_count": 77,
     "metadata": {},
     "output_type": "execute_result"
    }
   ],
   "source": [
    "bar_dict = {f:os.stat(f) for f in glob.glob(\"*.csv\")}\n",
    "bar_dict[\"CRCDPL4.csv\"].st_size"
   ]
  },
  {
   "cell_type": "code",
   "execution_count": 86,
   "metadata": {},
   "outputs": [
    {
     "data": {
      "text/plain": [
       "{'Applied Logistic Regression Hosmer-Lemeshow': '15.5 MiB',\n",
       " 'CLTV 2.0': '16.8 MiB',\n",
       " 'CRCDPL4': '4.4 MiB',\n",
       " 'CRCDPL4_approved': '1.4 MiB',\n",
       " 'Dayli Intelligence Company Profile_July': '2.9 MiB',\n",
       " 'ISLR Seventh Printing': '10.6 MiB',\n",
       " 'John_K_Kruschke-Doing_Bayesian_Data_Analysis-EN': '22.6 MiB',\n",
       " 'Kruschke-Liddell2018_Article_BayesianDataAnalysisForNewcome': '1.3 MiB',\n",
       " 'MC_JS_20180714': '1000.8 KiB',\n",
       " 'Market Segmentation Analysis -Understanding It, Doing It and Making It Useful': '7.4 MiB',\n",
       " 'ProbStatBook': '7.8 MiB',\n",
       " 'Python Programming An Introduction to Computer Science': '5.7 MiB',\n",
       " \"The Hitchiker's Guide to Python\": '10.6 MiB',\n",
       " 'account_leads_tagging': '87.3 MiB',\n",
       " 'approved_all_products_demographic': '9.3 MiB',\n",
       " 'cc_approvals_by_account': '32.4 MiB',\n",
       " 'cc_approvals_by_account_cleaned': '24.8 MiB',\n",
       " 'cc_approvals_by_account_cleaned_v2': '24.8 MiB',\n",
       " 'compiled_CPPL': '10.3 MiB',\n",
       " 'mkt_dashboard_nirvana_mcdaniel_0': '1.0 MiB',\n",
       " 'sample_cc': '23.9 MiB',\n",
       " 'sora_values_upto_20180826': '20.1 MiB',\n",
       " 'sora_values_upto_20180826_cleansed': '42.0 MiB',\n",
       " 'ubuntu-18.04-desktop-amd64': '1.8 GiB',\n",
       " 'whitepaper_visual-analysis-guidebook_0': '3.9 MiB'}"
      ]
     },
     "execution_count": 86,
     "metadata": {},
     "output_type": "execute_result"
    }
   ],
   "source": [
    "import os, glob, humansize\n",
    "metadata_dict = {f:os.stat(f) for f in glob.glob(\"*\")}\n",
    "{os.path.splitext(f)[0]: humansize.approximate_size(meta.st_size) # split the file name by dot, take the first string\n",
    " for f, meta in metadata_dict.items() if meta.st_size > 1000000} # dict.items() returns each (key, value) in tuple"
   ]
  },
  {
   "cell_type": "markdown",
   "metadata": {},
   "source": [
    "### swapping key and values of a dictionary provided the value is not a list"
   ]
  },
  {
   "cell_type": "code",
   "execution_count": 88,
   "metadata": {},
   "outputs": [
    {
     "data": {
      "text/plain": [
       "{1: 'a', 2: 'b', 3: 'c'}"
      ]
     },
     "execution_count": 88,
     "metadata": {},
     "output_type": "execute_result"
    }
   ],
   "source": [
    "foo = {1: \"a\", 2:\"b\", 3: \"c\"}\n",
    "foo"
   ]
  },
  {
   "cell_type": "code",
   "execution_count": 90,
   "metadata": {},
   "outputs": [
    {
     "data": {
      "text/plain": [
       "{'a': 1, 'b': 2, 'c': 3}"
      ]
     },
     "execution_count": 90,
     "metadata": {},
     "output_type": "execute_result"
    }
   ],
   "source": [
    "foo_2 = {v:k for k, v in foo.items()}\n",
    "foo_2"
   ]
  },
  {
   "cell_type": "markdown",
   "metadata": {},
   "source": [
    "### set comprehension"
   ]
  },
  {
   "cell_type": "code",
   "execution_count": 93,
   "metadata": {},
   "outputs": [
    {
     "data": {
      "text/plain": [
       "set"
      ]
     },
     "execution_count": 93,
     "metadata": {},
     "output_type": "execute_result"
    }
   ],
   "source": [
    "bar = set(range(10))\n",
    "bar\n",
    "type(bar)"
   ]
  },
  {
   "cell_type": "code",
   "execution_count": 94,
   "metadata": {},
   "outputs": [
    {
     "data": {
      "text/plain": [
       "{0, 2, 4, 6, 8}"
      ]
     },
     "execution_count": 94,
     "metadata": {},
     "output_type": "execute_result"
    }
   ],
   "source": [
    "{x for x in bar if x % 2 == 0} # new set, taking an old set as an input"
   ]
  },
  {
   "cell_type": "code",
   "execution_count": 97,
   "metadata": {},
   "outputs": [
    {
     "data": {
      "text/plain": [
       "set"
      ]
     },
     "execution_count": 97,
     "metadata": {},
     "output_type": "execute_result"
    }
   ],
   "source": [
    "{x for x in range(10)} # new set, without taking a set as an input"
   ]
  }
 ],
 "metadata": {
  "kernelspec": {
   "display_name": "Python 3",
   "language": "python",
   "name": "python3"
  },
  "language_info": {
   "codemirror_mode": {
    "name": "ipython",
    "version": 3
   },
   "file_extension": ".py",
   "mimetype": "text/x-python",
   "name": "python",
   "nbconvert_exporter": "python",
   "pygments_lexer": "ipython3",
   "version": "3.6.6rc1"
  }
 },
 "nbformat": 4,
 "nbformat_minor": 2
}
