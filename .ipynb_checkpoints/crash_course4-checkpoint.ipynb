{
 "cells": [
  {
   "cell_type": "markdown",
   "metadata": {},
   "source": [
    "### Closures, i.e. building functions dynamically using variables defined in the outer function; to separate the data and code "
   ]
  },
  {
   "cell_type": "code",
   "execution_count": 14,
   "metadata": {},
   "outputs": [
    {
     "data": {
      "text/plain": [
       "<_sre.SRE_Match object; span=(0, 3), match='aaa'>"
      ]
     },
     "execution_count": 14,
     "metadata": {},
     "output_type": "execute_result"
    }
   ],
   "source": [
    "import re\n",
    "re.search('aaa', \"aaa\")"
   ]
  },
  {
   "cell_type": "code",
   "execution_count": 23,
   "metadata": {},
   "outputs": [],
   "source": [
    "def plural(noun):\n",
    "    if re.search('[sxz]$', noun):\n",
    "        return re.sub(\"$\", \"es\", noun)\n",
    "    elif re.search(\"[^aeioudgkprt]h$\", noun):\n",
    "        return re.sub(\"$\", \"es\", noun)\n",
    "    elif re.search(\"[^aeiou]y$\", noun):\n",
    "        return re.sub(\"y$\", \"ies\", noun)\n",
    "    else:\n",
    "        return noun + \"s\""
   ]
  },
  {
   "cell_type": "code",
   "execution_count": 16,
   "metadata": {},
   "outputs": [
    {
     "data": {
      "text/plain": [
       "'asses'"
      ]
     },
     "execution_count": 16,
     "metadata": {},
     "output_type": "execute_result"
    }
   ],
   "source": [
    "plural(\"ass\")"
   ]
  },
  {
   "cell_type": "code",
   "execution_count": 21,
   "metadata": {},
   "outputs": [
    {
     "data": {
      "text/plain": [
       "'rashes'"
      ]
     },
     "execution_count": 21,
     "metadata": {},
     "output_type": "execute_result"
    }
   ],
   "source": [
    "plural(\"rash\")"
   ]
  },
  {
   "cell_type": "code",
   "execution_count": 24,
   "metadata": {},
   "outputs": [
    {
     "data": {
      "text/plain": [
       "'vacancies'"
      ]
     },
     "execution_count": 24,
     "metadata": {},
     "output_type": "execute_result"
    }
   ],
   "source": [
    "plural(\"vacancy\")"
   ]
  },
  {
   "cell_type": "code",
   "execution_count": 18,
   "metadata": {},
   "outputs": [
    {
     "data": {
      "text/plain": [
       "'oops'"
      ]
     },
     "execution_count": 18,
     "metadata": {},
     "output_type": "execute_result"
    }
   ],
   "source": [
    "# re.sub is greedy\n",
    "re.sub(\"[abc]\", \"o\", \"caps\") # replaces \"c\" and \"a\" with \"o\""
   ]
  },
  {
   "cell_type": "code",
   "execution_count": 28,
   "metadata": {},
   "outputs": [
    {
     "data": {
      "text/plain": [
       "'agencies'"
      ]
     },
     "execution_count": 28,
     "metadata": {},
     "output_type": "execute_result"
    }
   ],
   "source": [
    "# remembered group using parenthesis\n",
    "re.sub(\"([^aeiou])y$\", r\"\\1ies\", \"agency\") #\\1 is the first captured group in the pattern"
   ]
  },
  {
   "cell_type": "code",
   "execution_count": 35,
   "metadata": {},
   "outputs": [],
   "source": [
    "## Break the functions above into individual functions\n",
    "import re\n",
    "\n",
    "def match_sxz(noun):\n",
    "    return re.search('[sxz]$', noun)\n",
    "\n",
    "def apply_sxz(noun):\n",
    "    return re.sub('$', 'es', noun)\n",
    "\n",
    "def match_h(noun):\n",
    "    return re.search('[^aeioudgkprt]h$', noun)\n",
    "\n",
    "def apply_h(noun):\n",
    "    return re.sub('$', 'es', noun)\n",
    "\n",
    "def match_y(noun):                             \n",
    "    return re.search('[^aeiou]y$', noun)\n",
    "\n",
    "def apply_y(noun):                             \n",
    "    return re.sub('y$', 'ies', noun)\n",
    "\n",
    "def match_default(noun):\n",
    "    return True\n",
    "\n",
    "def apply_default(noun):\n",
    "    return noun + 's'\n"
   ]
  },
  {
   "cell_type": "code",
   "execution_count": 39,
   "metadata": {},
   "outputs": [],
   "source": [
    "# the rules sequence in the form of tuples\n",
    "# we don't really call the function, but rather call them indirectly\n",
    "rules = ((match_sxz, apply_sxz),               \n",
    "         (match_h, apply_h),\n",
    "         (match_y, apply_y),\n",
    "         (match_default, apply_default)\n",
    "         )\n",
    "\n",
    "def plural(noun):\n",
    "    for matches_rule, apply_rule in rules:\n",
    "        if matches_rule(noun):\n",
    "            return apply_rule(noun)\n"
   ]
  },
  {
   "cell_type": "code",
   "execution_count": 40,
   "metadata": {},
   "outputs": [
    {
     "data": {
      "text/plain": [
       "'rashes'"
      ]
     },
     "execution_count": 40,
     "metadata": {},
     "output_type": "execute_result"
    }
   ],
   "source": [
    "plural(\"rash\")"
   ]
  },
  {
   "cell_type": "code",
   "execution_count": 41,
   "metadata": {},
   "outputs": [
    {
     "data": {
      "text/plain": [
       "'vacancies'"
      ]
     },
     "execution_count": 41,
     "metadata": {},
     "output_type": "execute_result"
    }
   ],
   "source": [
    "plural(\"vacancy\")"
   ]
  },
  {
   "cell_type": "code",
   "execution_count": 42,
   "metadata": {},
   "outputs": [
    {
     "data": {
      "text/plain": [
       "'boys'"
      ]
     },
     "execution_count": 42,
     "metadata": {},
     "output_type": "execute_result"
    }
   ],
   "source": [
    "plural(\"boy\")"
   ]
  },
  {
   "cell_type": "code",
   "execution_count": 48,
   "metadata": {},
   "outputs": [],
   "source": [
    "import re\n",
    "\n",
    "def build_match_and_apply_functions(pattern, search, replace):\n",
    "    \n",
    "    def matches_rule(word):\n",
    "        return re.search(pattern, word) # takes pattern\n",
    "    \n",
    "    def apply_rule(word):\n",
    "        return re.sub(search, replace, word) # takes search and replace\n",
    "    \n",
    "    return(matches_rule, apply_rule)"
   ]
  },
  {
   "cell_type": "code",
   "execution_count": 46,
   "metadata": {},
   "outputs": [],
   "source": [
    "# help(re.search)\n",
    "# help(re.sub)"
   ]
  },
  {
   "cell_type": "code",
   "execution_count": 50,
   "metadata": {},
   "outputs": [
    {
     "data": {
      "text/plain": [
       "(<function __main__.build_match_and_apply_functions.<locals>.matches_rule(word)>,\n",
       " <function __main__.build_match_and_apply_functions.<locals>.apply_rule(word)>)"
      ]
     },
     "execution_count": 50,
     "metadata": {},
     "output_type": "execute_result"
    }
   ],
   "source": [
    "# let's try the new function that builds other functions dynamically\n",
    "# sxz = build_match_and_apply_functions(\"[sxz]$\", \"$\", \"es\")\n",
    "# sxz"
   ]
  },
  {
   "cell_type": "code",
   "execution_count": 53,
   "metadata": {},
   "outputs": [
    {
     "data": {
      "text/plain": [
       "(('[sxz]$', '$', 'es'),\n",
       " ('[^aeioudgkprt]h$', '$', 'es'),\n",
       " ('(qu|[^aeiou])y$', 'y$', 'ies'),\n",
       " ('$', '$', 's'))"
      ]
     },
     "execution_count": 53,
     "metadata": {},
     "output_type": "execute_result"
    }
   ],
   "source": [
    "# redefine the rules in tuples, using the build_match_and_apply_functions\n",
    "patterns = \\\n",
    "    ( \n",
    "            (\"[sxz]$\",           \"$\",  \"es\"),\n",
    "            (\"[^aeioudgkprt]h$\", \"$\",  \"es\"),\n",
    "            (\"(qu|[^aeiou])y$\",  \"y$\", \"ies\"),\n",
    "            (\"$\", \"$\", \"s\")\n",
    "    )\n",
    "\n",
    "patterns"
   ]
  },
  {
   "cell_type": "code",
   "execution_count": 55,
   "metadata": {},
   "outputs": [
    {
     "data": {
      "text/plain": [
       "[(<function __main__.build_match_and_apply_functions.<locals>.matches_rule(word)>,\n",
       "  <function __main__.build_match_and_apply_functions.<locals>.apply_rule(word)>),\n",
       " (<function __main__.build_match_and_apply_functions.<locals>.matches_rule(word)>,\n",
       "  <function __main__.build_match_and_apply_functions.<locals>.apply_rule(word)>),\n",
       " (<function __main__.build_match_and_apply_functions.<locals>.matches_rule(word)>,\n",
       "  <function __main__.build_match_and_apply_functions.<locals>.apply_rule(word)>),\n",
       " (<function __main__.build_match_and_apply_functions.<locals>.matches_rule(word)>,\n",
       "  <function __main__.build_match_and_apply_functions.<locals>.apply_rule(word)>)]"
      ]
     },
     "execution_count": 55,
     "metadata": {},
     "output_type": "execute_result"
    }
   ],
   "source": [
    "rules = [build_match_and_apply_functions(x, y, z) for x, y, z in patterns]\n",
    "rules\n"
   ]
  },
  {
   "cell_type": "code",
   "execution_count": 58,
   "metadata": {},
   "outputs": [],
   "source": [
    "def plural(noun):\n",
    "    for matches_rule, apply_rule in rules:\n",
    "        if matches_rule(noun):\n",
    "            return apply_rule(noun)"
   ]
  },
  {
   "cell_type": "code",
   "execution_count": 59,
   "metadata": {},
   "outputs": [
    {
     "data": {
      "text/plain": [
       "'boys'"
      ]
     },
     "execution_count": 59,
     "metadata": {},
     "output_type": "execute_result"
    }
   ],
   "source": [
    "plural(\"boy\")"
   ]
  },
  {
   "cell_type": "code",
   "execution_count": 60,
   "metadata": {},
   "outputs": [
    {
     "data": {
      "text/plain": [
       "'vacancies'"
      ]
     },
     "execution_count": 60,
     "metadata": {},
     "output_type": "execute_result"
    }
   ],
   "source": [
    "plural(\"vacancy\")"
   ]
  },
  {
   "cell_type": "code",
   "execution_count": 61,
   "metadata": {},
   "outputs": [
    {
     "data": {
      "text/plain": [
       "'rashes'"
      ]
     },
     "execution_count": 61,
     "metadata": {},
     "output_type": "execute_result"
    }
   ],
   "source": [
    "plural(\"rash\")"
   ]
  },
  {
   "cell_type": "code",
   "execution_count": 62,
   "metadata": {},
   "outputs": [],
   "source": [
    "# separate the rules in a separate file\n",
    "# create a text file\n",
    "!touch plural4-rules.txt"
   ]
  },
  {
   "cell_type": "code",
   "execution_count": 68,
   "metadata": {},
   "outputs": [
    {
     "data": {
      "text/plain": [
       "[(<function __main__.build_match_and_apply_functions.<locals>.matches_rule(word)>,\n",
       "  <function __main__.build_match_and_apply_functions.<locals>.apply_rule(word)>),\n",
       " (<function __main__.build_match_and_apply_functions.<locals>.matches_rule(word)>,\n",
       "  <function __main__.build_match_and_apply_functions.<locals>.apply_rule(word)>),\n",
       " (<function __main__.build_match_and_apply_functions.<locals>.matches_rule(word)>,\n",
       "  <function __main__.build_match_and_apply_functions.<locals>.apply_rule(word)>),\n",
       " (<function __main__.build_match_and_apply_functions.<locals>.matches_rule(word)>,\n",
       "  <function __main__.build_match_and_apply_functions.<locals>.apply_rule(word)>)]"
      ]
     },
     "execution_count": 68,
     "metadata": {},
     "output_type": "execute_result"
    }
   ],
   "source": [
    "# reuse the code\n",
    "import re\n",
    "\n",
    "def build_match_and_apply_functions(pattern, search, replace):\n",
    "    \n",
    "    def matches_rule(word):\n",
    "        return re.search(pattern, word) # takes pattern\n",
    "    \n",
    "    def apply_rule(word):\n",
    "        return re.sub(search, replace, word) # takes search and replace\n",
    "    \n",
    "    return(matches_rule, apply_rule)\n",
    "\n",
    "rules = []\n",
    "\n",
    "with open(\"plural4-rules.txt\") as pattern_file:\n",
    "    for line in pattern_file:\n",
    "        pattern, search, replace = line.split(None, 3) # split the line 3 times, on tabs/space\n",
    "        rules.append(build_match_and_apply_functions(pattern, search, replace))\n",
    "\n",
    "# rules\n",
    "def plural(noun):\n",
    "    for matches_rule, apply_rule in rules:\n",
    "        if matches_rule(noun):\n",
    "            return apply_rule(noun)\n",
    "\n"
   ]
  },
  {
   "cell_type": "markdown",
   "metadata": {},
   "source": [
    "### Generator"
   ]
  },
  {
   "cell_type": "code",
   "execution_count": 69,
   "metadata": {},
   "outputs": [
    {
     "name": "stdout",
     "output_type": "stream",
     "text": [
      "--2018-09-16 02:38:44--  http://www.diveintopython3.net/examples/plural5.py\n",
      "Resolving www.diveintopython3.net (www.diveintopython3.net)... 54.231.82.49\n",
      "Connecting to www.diveintopython3.net (www.diveintopython3.net)|54.231.82.49|:80... connected.\n",
      "HTTP request sent, awaiting response... 200 OK\n",
      "Length: 2378 (2.3K) [text/x-python]\n",
      "Saving to: ‘plural5.py’\n",
      "\n",
      "plural5.py          100%[===================>]   2.32K  --.-KB/s    in 0s      \n",
      "\n",
      "2018-09-16 02:38:45 (70.6 MB/s) - ‘plural5.py’ saved [2378/2378]\n",
      "\n"
     ]
    }
   ],
   "source": [
    "!wget \"http://www.diveintopython3.net/examples/plural5.py\""
   ]
  },
  {
   "cell_type": "code",
   "execution_count": 72,
   "metadata": {},
   "outputs": [
    {
     "name": "stdout",
     "output_type": "stream",
     "text": [
      "'''Pluralize English nouns (stage 5)\r",
      "\r\n",
      "\r",
      "\r\n",
      "Command line usage:\r",
      "\r\n",
      "$ python plural5.py noun\r",
      "\r\n",
      "nouns\r",
      "\r\n",
      "'''\r",
      "\r\n",
      "\r",
      "\r\n",
      "import re\r",
      "\r\n",
      "\r",
      "\r\n",
      "def build_match_and_apply_functions(pattern, search, replace):\r",
      "\r\n",
      "    def matches_rule(word):\r",
      "\r\n",
      "        return re.search(pattern, word)\r",
      "\r\n",
      "    def apply_rule(word):\r",
      "\r\n",
      "        return re.sub(search, replace, word)\r",
      "\r\n",
      "    return [matches_rule, apply_rule]\r",
      "\r\n",
      "\r",
      "\r\n",
      "def rules(rules_filename):\r",
      "\r\n",
      "    with open(rules_filename, encoding='utf-8') as pattern_file:\r",
      "\r\n",
      "        for line in pattern_file:\r",
      "\r\n",
      "            pattern, search, replace = line.split(None, 3)\r",
      "\r\n",
      "            yield build_match_and_apply_functions(pattern, search, replace)\r",
      "\r\n",
      "\r",
      "\r\n",
      "def plural(noun, rules_filename='plural5-rules.txt'):\r",
      "\r\n",
      "    for matches_rule, apply_rule in rules(rules_filename):\r",
      "\r\n",
      "        if matches_rule(noun):\r",
      "\r\n",
      "            return apply_rule(noun)\r",
      "\r\n",
      "    raise ValueError('no matching rule for {0}'.format(noun))\r",
      "\r\n",
      "\r",
      "\r\n",
      "if __name__ == '__main__':\r",
      "\r\n",
      "    import sys\r",
      "\r\n",
      "    if sys.argv[1:]:\r",
      "\r\n",
      "        print(plural(sys.argv[1]))\r",
      "\r\n",
      "    else:\r",
      "\r\n",
      "        print(__doc__)\r",
      "\r\n",
      "\r",
      "\r\n",
      "# Copyright (c) 2009, Mark Pilgrim, All rights reserved.\r",
      "\r\n",
      "# \r",
      "\r\n",
      "# Redistribution and use in source and binary forms, with or without modification,\r",
      "\r\n",
      "# are permitted provided that the following conditions are met:\r",
      "\r\n",
      "# \r",
      "\r\n",
      "# * Redistributions of source code must retain the above copyright notice,\r",
      "\r\n",
      "#   this list of conditions and the following disclaimer.\r",
      "\r\n",
      "# * Redistributions in binary form must reproduce the above copyright notice,\r",
      "\r\n",
      "#   this list of conditions and the following disclaimer in the documentation\r",
      "\r\n",
      "#   and/or other materials provided with the distribution.\r",
      "\r\n",
      "# \r",
      "\r\n",
      "# THIS SOFTWARE IS PROVIDED BY THE COPYRIGHT HOLDERS AND CONTRIBUTORS 'AS IS'\r",
      "\r\n",
      "# AND ANY EXPRESS OR IMPLIED WARRANTIES, INCLUDING, BUT NOT LIMITED TO, THE\r",
      "\r\n",
      "# IMPLIED WARRANTIES OF MERCHANTABILITY AND FITNESS FOR A PARTICULAR PURPOSE\r",
      "\r\n",
      "# ARE DISCLAIMED. IN NO EVENT SHALL THE COPYRIGHT OWNER OR CONTRIBUTORS BE\r",
      "\r\n",
      "# LIABLE FOR ANY DIRECT, INDIRECT, INCIDENTAL, SPECIAL, EXEMPLARY, OR\r",
      "\r\n",
      "# CONSEQUENTIAL DAMAGES (INCLUDING, BUT NOT LIMITED TO, PROCUREMENT OF\r",
      "\r\n",
      "# SUBSTITUTE GOODS OR SERVICES; LOSS OF USE, DATA, OR PROFITS; OR BUSINESS\r",
      "\r\n",
      "# INTERRUPTION) HOWEVER CAUSED AND ON ANY THEORY OF LIABILITY, WHETHER IN\r",
      "\r\n",
      "# CONTRACT, STRICT LIABILITY, OR TORT (INCLUDING NEGLIGENCE OR OTHERWISE)\r",
      "\r\n",
      "# ARISING IN ANY WAY OUT OF THE USE OF THIS SOFTWARE, EVEN IF ADVISED OF THE\r",
      "\r\n",
      "# POSSIBILITY OF SUCH DAMAGE.\r",
      "\r\n"
     ]
    }
   ],
   "source": [
    "!cat plural5.py\n"
   ]
  },
  {
   "cell_type": "code",
   "execution_count": 79,
   "metadata": {},
   "outputs": [],
   "source": [
    "def make_counter(x):\n",
    "    print(\"entering make_counter\")\n",
    "    while True:\n",
    "        yield x\n",
    "        print(\"incrementing x\")\n",
    "        x = x + 1\n"
   ]
  },
  {
   "cell_type": "code",
   "execution_count": 90,
   "metadata": {},
   "outputs": [
    {
     "data": {
      "text/plain": [
       "<generator object make_counter at 0x7f5978198eb8>"
      ]
     },
     "execution_count": 90,
     "metadata": {},
     "output_type": "execute_result"
    }
   ],
   "source": [
    "counter = make_counter(2)\n",
    "counter"
   ]
  },
  {
   "cell_type": "code",
   "execution_count": 96,
   "metadata": {},
   "outputs": [
    {
     "name": "stdout",
     "output_type": "stream",
     "text": [
      "incrementing x\n"
     ]
    },
    {
     "data": {
      "text/plain": [
       "7"
      ]
     },
     "execution_count": 96,
     "metadata": {},
     "output_type": "execute_result"
    }
   ],
   "source": [
    "next(counter)"
   ]
  },
  {
   "cell_type": "code",
   "execution_count": 98,
   "metadata": {},
   "outputs": [],
   "source": [
    "def fib(max):\n",
    "    a, b = 0, 1\n",
    "    while a < max:\n",
    "        yield a\n",
    "        a, b = b, a + b"
   ]
  },
  {
   "cell_type": "code",
   "execution_count": 117,
   "metadata": {},
   "outputs": [],
   "source": [
    "foo = fib(1000)"
   ]
  },
  {
   "cell_type": "code",
   "execution_count": 120,
   "metadata": {},
   "outputs": [
    {
     "name": "stdout",
     "output_type": "stream",
     "text": [
      "0 1 1 2 3 5 8 13 21 34 55 89 144 233 377 610 987 "
     ]
    }
   ],
   "source": [
    "# can use generator in a for-loop\n",
    "# will automatically call the next() function to get values from the generator\n",
    "\n",
    "for n in fib(1000):\n",
    "    print(n, end = \" \")"
   ]
  },
  {
   "cell_type": "code",
   "execution_count": 121,
   "metadata": {},
   "outputs": [
    {
     "data": {
      "text/plain": [
       "[0, 1, 1, 2, 3, 5, 8, 13, 21, 34, 55, 89, 144, 233, 377, 610, 987]"
      ]
     },
     "execution_count": 121,
     "metadata": {},
     "output_type": "execute_result"
    }
   ],
   "source": [
    "list(fib(1000))"
   ]
  },
  {
   "cell_type": "code",
   "execution_count": 122,
   "metadata": {},
   "outputs": [
    {
     "name": "stdout",
     "output_type": "stream",
     "text": [
      "total 144\r\n",
      "drwxrwxr-x  7 js js  4096 Sep  16 02:49 .\r\n",
      "drwxrwxr-x 10 js js  4096 Sep   9 02:27 ..\r\n",
      "-rw-rw-r--  1 js js 22234 Sep   9 02:28 crash_course2.ipynb\r\n",
      "-rw-rw-r--  1 js js 25556 Sep  15 18:55 crash_course3.ipynb\r\n",
      "-rw-rw-r--  1 js js   601 Sep  16 02:49 crash_course4.ipynb\r\n",
      "-rw-rw-r--  1 js js 44826 Sep   9 02:30 crash_course.ipynb\r\n",
      "drwxrwxr-x  8 js js  4096 Sep  16 02:49 .git\r\n",
      "-rw-rw-r--  1 js js   973 Sep   1 17:56 humansize.py\r\n",
      "drwxrwxr-x  4 js js  4096 Sep  15 18:55 .idea\r\n",
      "drwxrwxr-x  2 js js  4096 Sep  15 16:17 .ipynb_checkpoints\r\n",
      "-rw-rw-r--  1 js js   116 Sep  16 02:08 plural4-rules.txt\r\n",
      "-rw-rw-r--  1 js js  2378 Okt  13  2011 plural5.py\r\n",
      "drwxrwxr-x  2 js js  4096 Sep  15 16:18 __pycache__\r\n",
      "-rw-rw-r--  1 js js   517 Sep   2 19:03 revision_datatypes.py\r\n",
      "drwxrwxr-x  7 js js  4096 Sep  15 16:14 venv\r\n"
     ]
    }
   ],
   "source": [
    "!ls -la\n"
   ]
  },
  {
   "cell_type": "code",
   "execution_count": 131,
   "metadata": {},
   "outputs": [],
   "source": [
    "a = [i for i in range(100) if i % 2 == 0]"
   ]
  }
 ],
 "metadata": {
  "kernelspec": {
   "display_name": "Python 3",
   "language": "python",
   "name": "python3"
  },
  "language_info": {
   "codemirror_mode": {
    "name": "ipython",
    "version": 3
   },
   "file_extension": ".py",
   "mimetype": "text/x-python",
   "name": "python",
   "nbconvert_exporter": "python",
   "pygments_lexer": "ipython3",
   "version": "3.5.2"
  }
 },
 "nbformat": 4,
 "nbformat_minor": 1
}
