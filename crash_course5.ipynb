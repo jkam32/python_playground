{
 "cells": [
  {
   "cell_type": "code",
   "execution_count": 1,
   "metadata": {},
   "outputs": [],
   "source": [
    "def foo(x):\n",
    "    while True:\n",
    "        yield x\n",
    "        x += 1\n",
    "        "
   ]
  },
  {
   "cell_type": "code",
   "execution_count": 4,
   "metadata": {},
   "outputs": [
    {
     "data": {
      "text/plain": [
       "<generator object foo at 0x7f966027d888>"
      ]
     },
     "execution_count": 4,
     "metadata": {},
     "output_type": "execute_result"
    }
   ],
   "source": [
    "bar = foo(1)\n",
    "bar"
   ]
  },
  {
   "cell_type": "code",
   "execution_count": 15,
   "metadata": {},
   "outputs": [
    {
     "data": {
      "text/plain": [
       "11"
      ]
     },
     "execution_count": 15,
     "metadata": {},
     "output_type": "execute_result"
    }
   ],
   "source": [
    "next(bar)"
   ]
  },
  {
   "cell_type": "markdown",
   "metadata": {},
   "source": [
    "### Classes"
   ]
  },
  {
   "cell_type": "code",
   "execution_count": 16,
   "metadata": {},
   "outputs": [],
   "source": [
    "class Foo: #class name usually in uppercase\n",
    "    pass"
   ]
  },
  {
   "cell_type": "markdown",
   "metadata": {},
   "source": [
    "### Let's construct a Fibonacci Iterator"
   ]
  },
  {
   "cell_type": "code",
   "execution_count": 28,
   "metadata": {},
   "outputs": [],
   "source": [
    "class Fib:\n",
    "    \"\"\"\n",
    "    iterator that yields numbers in the Fibonacci sequence\n",
    "    \n",
    "    \"\"\"\n",
    "    def __init__(self, max):\n",
    "        self.max = max # global variable for the instance\n",
    "        \n",
    "#     The __init__() method is called immediately after an instance of the class is created. \n",
    "#     It would be tempting — but technically incorrect — to call this the “constructor” of the class. \n",
    "#     It’s tempting, because it looks like a C++ constructor \n",
    "#     (by convention, the __init__() method is the first method defined for the class), acts like one (it’s the first piece of code executed in a newly created instance of the class), and even sounds like one. Incorrect, because the object has already been constructed by the time the __init__() method is called, and you already have a valid reference to the new instance of the class.\n",
    "    \n",
    "    def __iter__(self): # returns an iterator object? to confirm\n",
    "        self.a = 0\n",
    "        self.b = 1\n",
    "        return self # return self, meaning that the Fib_inst == Fib_iter\n",
    "    \n",
    "    def __next__(self):\n",
    "        fib = self.a\n",
    "        if fib > self.max:\n",
    "            raise StopIteration # surprisingly StopIteration will by \"swallowed\" by a for-loop automatically, in __next__ method\n",
    "        self.a, self.b = self.b, self.a + self.b\n",
    "        return fib\n",
    "    \n",
    "    \n",
    "    "
   ]
  },
  {
   "cell_type": "code",
   "execution_count": 18,
   "metadata": {},
   "outputs": [
    {
     "name": "stdout",
     "output_type": "stream",
     "text": [
      "--2018-09-17 17:33:44--  http://www.diveintopython3.net/examples/fibonacci2.py\n",
      "Resolving www.diveintopython3.net (www.diveintopython3.net)... 52.216.130.170\n",
      "Connecting to www.diveintopython3.net (www.diveintopython3.net)|52.216.130.170|:80... connected.\n",
      "HTTP request sent, awaiting response... 200 OK\n",
      "Length: 1792 (1.8K) [text/x-python]\n",
      "Saving to: ‘fibonacci2.py’\n",
      "\n",
      "fibonacci2.py       100%[===================>]   1.75K  --.-KB/s    in 0s      \n",
      "\n",
      "2018-09-17 17:33:44 (107 MB/s) - ‘fibonacci2.py’ saved [1792/1792]\n",
      "\n"
     ]
    }
   ],
   "source": [
    "!wget http://www.diveintopython3.net/examples/fibonacci2.py"
   ]
  },
  {
   "cell_type": "code",
   "execution_count": 19,
   "metadata": {},
   "outputs": [
    {
     "name": "stdout",
     "output_type": "stream",
     "text": [
      "total 172\r\n",
      "drwxrwxr-x  7 js js  4096 Sep  17 17:33 .\r\n",
      "drwxrwxr-x 10 js js  4096 Sep   9 02:27 ..\r\n",
      "-rw-rw-r--  1 js js 22234 Sep   9 02:28 crash_course2.ipynb\r\n",
      "-rw-rw-r--  1 js js 25556 Sep  17 17:03 crash_course3.ipynb\r\n",
      "-rw-rw-r--  1 js js 21169 Sep  17 17:09 crash_course4.ipynb\r\n",
      "-rw-rw-r--  1 js js  3582 Sep  17 17:32 crash_course5.ipynb\r\n",
      "-rw-rw-r--  1 js js 44826 Sep   9 02:30 crash_course.ipynb\r\n",
      "-rw-rw-r--  1 js js  1792 Okt  13  2011 fibonacci2.py\r\n",
      "drwxrwxr-x  8 js js  4096 Sep  17 17:28 .git\r\n",
      "-rw-rw-r--  1 js js   973 Sep   1 17:56 humansize.py\r\n",
      "drwxrwxr-x  4 js js  4096 Sep  17 17:27 .idea\r\n",
      "drwxrwxr-x  2 js js  4096 Sep  17 17:14 .ipynb_checkpoints\r\n",
      "-rw-rw-r--  1 js js   116 Sep  16 02:08 plural4-rules.txt\r\n",
      "-rw-rw-r--  1 js js  2378 Okt  13  2011 plural5.py\r\n",
      "drwxrwxr-x  2 js js  4096 Sep  15 16:18 __pycache__\r\n",
      "-rw-rw-r--  1 js js   517 Sep   2 19:03 revision_datatypes.py\r\n",
      "drwxrwxr-x  7 js js  4096 Sep  15 16:14 venv\r\n"
     ]
    }
   ],
   "source": [
    "!ls -la\n"
   ]
  },
  {
   "cell_type": "code",
   "execution_count": 22,
   "metadata": {},
   "outputs": [
    {
     "data": {
      "text/plain": [
       "<fibonacci2.Fib at 0x7f966022f978>"
      ]
     },
     "execution_count": 22,
     "metadata": {},
     "output_type": "execute_result"
    }
   ],
   "source": [
    "import fibonacci2\n",
    "fib = fibonacci2.Fib(100)\n",
    "fib"
   ]
  },
  {
   "cell_type": "code",
   "execution_count": 23,
   "metadata": {},
   "outputs": [
    {
     "data": {
      "text/plain": [
       "fibonacci2.Fib"
      ]
     },
     "execution_count": 23,
     "metadata": {},
     "output_type": "execute_result"
    }
   ],
   "source": [
    "fib.__class__"
   ]
  },
  {
   "cell_type": "code",
   "execution_count": 24,
   "metadata": {},
   "outputs": [
    {
     "data": {
      "text/plain": [
       "'iterator that yields numbers in the Fibonacci sequence'"
      ]
     },
     "execution_count": 24,
     "metadata": {},
     "output_type": "execute_result"
    }
   ],
   "source": [
    "fib.__doc__"
   ]
  },
  {
   "cell_type": "code",
   "execution_count": 25,
   "metadata": {},
   "outputs": [
    {
     "data": {
      "text/plain": [
       "100"
      ]
     },
     "execution_count": 25,
     "metadata": {},
     "output_type": "execute_result"
    }
   ],
   "source": [
    "fib.max"
   ]
  },
  {
   "cell_type": "code",
   "execution_count": 27,
   "metadata": {},
   "outputs": [
    {
     "data": {
      "text/plain": [
       "200"
      ]
     },
     "execution_count": 27,
     "metadata": {},
     "output_type": "execute_result"
    }
   ],
   "source": [
    "fib2 = fibonacci2.Fib(200)\n",
    "fib2.max"
   ]
  },
  {
   "cell_type": "code",
   "execution_count": 29,
   "metadata": {},
   "outputs": [
    {
     "name": "stdout",
     "output_type": "stream",
     "text": [
      "0 1 1 2 3 5 8 13 21 34 55 89 144 233 377 610 987 "
     ]
    }
   ],
   "source": [
    "from fibonacci2 import Fib\n",
    "for n in Fib(1000):\n",
    "    print(n, end = \" \")"
   ]
  },
  {
   "cell_type": "code",
   "execution_count": 30,
   "metadata": {},
   "outputs": [
    {
     "name": "stdout",
     "output_type": "stream",
     "text": [
      "'''Fibonacci iterator'''\r",
      "\r\n",
      "\r",
      "\r\n",
      "class Fib:\r",
      "\r\n",
      "    '''iterator that yields numbers in the Fibonacci sequence'''\r",
      "\r\n",
      "\r",
      "\r\n",
      "    def __init__(self, max):\r",
      "\r\n",
      "        self.max = max\r",
      "\r\n",
      "\r",
      "\r\n",
      "    def __iter__(self):\r",
      "\r\n",
      "        self.a = 0\r",
      "\r\n",
      "        self.b = 1\r",
      "\r\n",
      "        return self\r",
      "\r\n",
      "\r",
      "\r\n",
      "    def __next__(self):\r",
      "\r\n",
      "        fib = self.a\r",
      "\r\n",
      "        if fib > self.max:\r",
      "\r\n",
      "            raise StopIteration\r",
      "\r\n",
      "        self.a, self.b = self.b, self.a + self.b\r",
      "\r\n",
      "        return fib\r",
      "\r\n",
      "\r",
      "\r\n",
      "# Copyright (c) 2009, Mark Pilgrim, All rights reserved.\r",
      "\r\n",
      "# \r",
      "\r\n",
      "# Redistribution and use in source and binary forms, with or without modification,\r",
      "\r\n",
      "# are permitted provided that the following conditions are met:\r",
      "\r\n",
      "# \r",
      "\r\n",
      "# * Redistributions of source code must retain the above copyright notice,\r",
      "\r\n",
      "#   this list of conditions and the following disclaimer.\r",
      "\r\n",
      "# * Redistributions in binary form must reproduce the above copyright notice,\r",
      "\r\n",
      "#   this list of conditions and the following disclaimer in the documentation\r",
      "\r\n",
      "#   and/or other materials provided with the distribution.\r",
      "\r\n",
      "# \r",
      "\r\n",
      "# THIS SOFTWARE IS PROVIDED BY THE COPYRIGHT HOLDERS AND CONTRIBUTORS 'AS IS'\r",
      "\r\n",
      "# AND ANY EXPRESS OR IMPLIED WARRANTIES, INCLUDING, BUT NOT LIMITED TO, THE\r",
      "\r\n",
      "# IMPLIED WARRANTIES OF MERCHANTABILITY AND FITNESS FOR A PARTICULAR PURPOSE\r",
      "\r\n",
      "# ARE DISCLAIMED. IN NO EVENT SHALL THE COPYRIGHT OWNER OR CONTRIBUTORS BE\r",
      "\r\n",
      "# LIABLE FOR ANY DIRECT, INDIRECT, INCIDENTAL, SPECIAL, EXEMPLARY, OR\r",
      "\r\n",
      "# CONSEQUENTIAL DAMAGES (INCLUDING, BUT NOT LIMITED TO, PROCUREMENT OF\r",
      "\r\n",
      "# SUBSTITUTE GOODS OR SERVICES; LOSS OF USE, DATA, OR PROFITS; OR BUSINESS\r",
      "\r\n",
      "# INTERRUPTION) HOWEVER CAUSED AND ON ANY THEORY OF LIABILITY, WHETHER IN\r",
      "\r\n",
      "# CONTRACT, STRICT LIABILITY, OR TORT (INCLUDING NEGLIGENCE OR OTHERWISE)\r",
      "\r\n",
      "# ARISING IN ANY WAY OUT OF THE USE OF THIS SOFTWARE, EVEN IF ADVISED OF THE\r",
      "\r\n",
      "# POSSIBILITY OF SUCH DAMAGE.\r",
      "\r\n"
     ]
    }
   ],
   "source": [
    "!cat fibonacci2.py"
   ]
  },
  {
   "cell_type": "code",
   "execution_count": 31,
   "metadata": {},
   "outputs": [
    {
     "data": {
      "text/plain": [
       "1"
      ]
     },
     "execution_count": 31,
     "metadata": {},
     "output_type": "execute_result"
    }
   ],
   "source": [
    "a, b = 1, 2\n",
    "c = a\n",
    "a, b = b, a + b\n",
    "c"
   ]
  },
  {
   "cell_type": "code",
   "execution_count": 32,
   "metadata": {},
   "outputs": [
    {
     "data": {
      "text/plain": [
       "[1, 2, 3, 4]"
      ]
     },
     "execution_count": 32,
     "metadata": {},
     "output_type": "execute_result"
    }
   ],
   "source": [
    "a = [1, 2, 3]\n",
    "b = a\n",
    "a.append(4)\n",
    "b"
   ]
  },
  {
   "cell_type": "code",
   "execution_count": 33,
   "metadata": {},
   "outputs": [],
   "source": [
    "!mv plural4-rules.txt plural6-rules.txt"
   ]
  },
  {
   "cell_type": "code",
   "execution_count": 34,
   "metadata": {},
   "outputs": [
    {
     "name": "stdout",
     "output_type": "stream",
     "text": [
      "total 176\r\n",
      "drwxrwxr-x  7 js js  4096 Sep  17 18:12 .\r\n",
      "drwxrwxr-x 10 js js  4096 Sep   9 02:27 ..\r\n",
      "-rw-rw-r--  1 js js 22234 Sep   9 02:28 crash_course2.ipynb\r\n",
      "-rw-rw-r--  1 js js 25556 Sep  17 17:03 crash_course3.ipynb\r\n",
      "-rw-rw-r--  1 js js 21169 Sep  17 17:09 crash_course4.ipynb\r\n",
      "-rw-rw-r--  1 js js  7252 Sep  17 18:09 crash_course5.ipynb\r\n",
      "-rw-rw-r--  1 js js 44826 Sep   9 02:30 crash_course.ipynb\r\n",
      "-rw-rw-r--  1 js js  1792 Okt  13  2011 fibonacci2.py\r\n",
      "drwxrwxr-x  8 js js  4096 Sep  17 18:09 .git\r\n",
      "-rw-rw-r--  1 js js   973 Sep   1 17:56 humansize.py\r\n",
      "drwxrwxr-x  4 js js  4096 Sep  17 17:27 .idea\r\n",
      "drwxrwxr-x  2 js js  4096 Sep  17 17:14 .ipynb_checkpoints\r\n",
      "-rw-rw-r--  1 js js  2378 Okt  13  2011 plural5.py\r\n",
      "-rw-rw-r--  1 js js   116 Sep  16 02:08 plural6-rules.txt\r\n",
      "drwxrwxr-x  2 js js  4096 Sep  17 17:34 __pycache__\r\n",
      "-rw-rw-r--  1 js js   517 Sep   2 19:03 revision_datatypes.py\r\n",
      "drwxrwxr-x  7 js js  4096 Sep  15 16:14 venv\r\n"
     ]
    }
   ],
   "source": [
    "!ls -la"
   ]
  },
  {
   "cell_type": "code",
   "execution_count": 35,
   "metadata": {},
   "outputs": [],
   "source": [
    "!cp plural6-rules.txt plural4-rules.txt\n"
   ]
  },
  {
   "cell_type": "code",
   "execution_count": 36,
   "metadata": {},
   "outputs": [
    {
     "name": "stdout",
     "output_type": "stream",
     "text": [
      "total 188\r\n",
      "drwxrwxr-x  7 js js  4096 Sep  17 18:13 .\r\n",
      "drwxrwxr-x 10 js js  4096 Sep   9 02:27 ..\r\n",
      "-rw-rw-r--  1 js js 22234 Sep   9 02:28 crash_course2.ipynb\r\n",
      "-rw-rw-r--  1 js js 25556 Sep  17 17:03 crash_course3.ipynb\r\n",
      "-rw-rw-r--  1 js js 21169 Sep  17 17:09 crash_course4.ipynb\r\n",
      "-rw-rw-r--  1 js js 13369 Sep  17 18:12 crash_course5.ipynb\r\n",
      "-rw-rw-r--  1 js js 44826 Sep   9 02:30 crash_course.ipynb\r\n",
      "-rw-rw-r--  1 js js  1792 Okt  13  2011 fibonacci2.py\r\n",
      "drwxrwxr-x  8 js js  4096 Sep  17 18:09 .git\r\n",
      "-rw-rw-r--  1 js js   973 Sep   1 17:56 humansize.py\r\n",
      "drwxrwxr-x  4 js js  4096 Sep  17 17:27 .idea\r\n",
      "drwxrwxr-x  2 js js  4096 Sep  17 17:14 .ipynb_checkpoints\r\n",
      "-rw-rw-r--  1 js js   116 Sep  17 18:13 plural4-rules.txt\r\n",
      "-rw-rw-r--  1 js js  2378 Okt  13  2011 plural5.py\r\n",
      "-rw-rw-r--  1 js js   116 Sep  16 02:08 plural6-rules.txt\r\n",
      "drwxrwxr-x  2 js js  4096 Sep  17 17:34 __pycache__\r\n",
      "-rw-rw-r--  1 js js   517 Sep   2 19:03 revision_datatypes.py\r\n",
      "drwxrwxr-x  7 js js  4096 Sep  15 16:14 venv\r\n"
     ]
    }
   ],
   "source": [
    "!ls -la"
   ]
  },
  {
   "cell_type": "markdown",
   "metadata": {},
   "source": [
    "### class variables"
   ]
  },
  {
   "cell_type": "code",
   "execution_count": 37,
   "metadata": {},
   "outputs": [
    {
     "name": "stdout",
     "output_type": "stream",
     "text": [
      "--2018-09-17 18:14:32--  http://www.diveintopython3.net/examples/plural6.py\n",
      "Resolving www.diveintopython3.net (www.diveintopython3.net)... 52.216.227.170\n",
      "Connecting to www.diveintopython3.net (www.diveintopython3.net)|52.216.227.170|:80... connected.\n",
      "HTTP request sent, awaiting response... 200 OK\n",
      "Length: 2868 (2.8K) [text/x-python]\n",
      "Saving to: ‘plural6.py’\n",
      "\n",
      "plural6.py          100%[===================>]   2.80K  --.-KB/s    in 0s      \n",
      "\n",
      "2018-09-17 18:14:33 (7.53 MB/s) - ‘plural6.py’ saved [2868/2868]\n",
      "\n"
     ]
    }
   ],
   "source": [
    "!wget http://www.diveintopython3.net/examples/plural6.py"
   ]
  },
  {
   "cell_type": "code",
   "execution_count": 39,
   "metadata": {},
   "outputs": [],
   "source": [
    "import plural6\n",
    "r1 = plural6.LazyRules()\n",
    "r2 = plural6.LazyRules()"
   ]
  },
  {
   "cell_type": "code",
   "execution_count": 50,
   "metadata": {},
   "outputs": [
    {
     "name": "stdout",
     "output_type": "stream",
     "text": [
      "<plural6.LazyRules object at 0x7f9660248588>\n",
      "<plural6.LazyRules object at 0x7f9660248cf8>\n"
     ]
    }
   ],
   "source": [
    "print(r1)\n",
    "print(r2)\n"
   ]
  },
  {
   "cell_type": "code",
   "execution_count": 51,
   "metadata": {},
   "outputs": [
    {
     "data": {
      "text/plain": [
       "'plural6-rules.txt'"
      ]
     },
     "execution_count": 51,
     "metadata": {},
     "output_type": "execute_result"
    }
   ],
   "source": [
    "r1.rules_filename # note that this is a class variable"
   ]
  },
  {
   "cell_type": "code",
   "execution_count": 52,
   "metadata": {},
   "outputs": [
    {
     "data": {
      "text/plain": [
       "'plural6-rules.txt'"
      ]
     },
     "execution_count": 52,
     "metadata": {},
     "output_type": "execute_result"
    }
   ],
   "source": [
    "r2.rules_filename # class variable"
   ]
  },
  {
   "cell_type": "code",
   "execution_count": 53,
   "metadata": {},
   "outputs": [
    {
     "data": {
      "text/plain": [
       "'foo.txt'"
      ]
     },
     "execution_count": 53,
     "metadata": {},
     "output_type": "execute_result"
    }
   ],
   "source": [
    "r2.rules_filename = \"foo.txt\" # overwriting the instance attribute\n",
    "r2.rules_filename"
   ]
  },
  {
   "cell_type": "code",
   "execution_count": 54,
   "metadata": {},
   "outputs": [
    {
     "data": {
      "text/plain": [
       "'plural6-rules.txt'"
      ]
     },
     "execution_count": 54,
     "metadata": {},
     "output_type": "execute_result"
    }
   ],
   "source": [
    "r1.rules_filename # overwriting the instance attribute in r2 does not affect that of r1"
   ]
  },
  {
   "cell_type": "code",
   "execution_count": 56,
   "metadata": {},
   "outputs": [
    {
     "name": "stdout",
     "output_type": "stream",
     "text": [
      "False\n"
     ]
    }
   ],
   "source": [
    "r2.__class__.rules_filename # note that we can still access the class attribute using __class__.foo\n",
    "print(r2.rules_filename == r2.__class__.rules_filename)"
   ]
  },
  {
   "cell_type": "code",
   "execution_count": 57,
   "metadata": {},
   "outputs": [],
   "source": [
    "# overwriting the class attribute, this will change all other instances' rules_filename\n",
    "r2.__class__.rules_filename = \"bar.txt\"\n"
   ]
  },
  {
   "cell_type": "code",
   "execution_count": 58,
   "metadata": {},
   "outputs": [
    {
     "data": {
      "text/plain": [
       "'bar.txt'"
      ]
     },
     "execution_count": 58,
     "metadata": {},
     "output_type": "execute_result"
    }
   ],
   "source": [
    "r1.rules_filename  # changed to \"bar.txt\""
   ]
  },
  {
   "cell_type": "code",
   "execution_count": 59,
   "metadata": {},
   "outputs": [
    {
     "data": {
      "text/plain": [
       "'foo.txt'"
      ]
     },
     "execution_count": 59,
     "metadata": {},
     "output_type": "execute_result"
    }
   ],
   "source": [
    "r2.rules_filename # not affected because overwritten"
   ]
  },
  {
   "cell_type": "code",
   "execution_count": 60,
   "metadata": {},
   "outputs": [
    {
     "name": "stdout",
     "output_type": "stream",
     "text": [
      "'''Pluralize English nouns (stage 6)\r",
      "\r\n",
      "\r",
      "\r\n",
      "Command line usage:\r",
      "\r\n",
      "$ python plural6.py noun\r",
      "\r\n",
      "nouns\r",
      "\r\n",
      "'''\r",
      "\r\n",
      "\r",
      "\r\n",
      "import re\r",
      "\r\n",
      "\r",
      "\r\n",
      "def build_match_and_apply_functions(pattern, search, replace):\r",
      "\r\n",
      "    def matches_rule(word):\r",
      "\r\n",
      "        return re.search(pattern, word)\r",
      "\r\n",
      "    def apply_rule(word):\r",
      "\r\n",
      "        return re.sub(search, replace, word)\r",
      "\r\n",
      "    return [matches_rule, apply_rule]\r",
      "\r\n",
      "\r",
      "\r\n",
      "class LazyRules:\r",
      "\r\n",
      "    rules_filename = 'plural6-rules.txt'\r",
      "\r\n",
      "\r",
      "\r\n",
      "    def __init__(self):\r",
      "\r\n",
      "        self.pattern_file = open(self.rules_filename, encoding='utf-8')\r",
      "\r\n",
      "        self.cache = []\r",
      "\r\n",
      "\r",
      "\r\n",
      "    def __iter__(self):\r",
      "\r\n",
      "        self.cache_index = 0\r",
      "\r\n",
      "        return self\r",
      "\r\n",
      "\r",
      "\r\n",
      "    def __next__(self):\r",
      "\r\n",
      "        self.cache_index += 1\r",
      "\r\n",
      "        if len(self.cache) >= self.cache_index:\r",
      "\r\n",
      "            return self.cache[self.cache_index - 1]\r",
      "\r\n",
      "\r",
      "\r\n",
      "        if self.pattern_file.closed:\r",
      "\r\n",
      "            raise StopIteration\r",
      "\r\n",
      "\r",
      "\r\n",
      "        line = self.pattern_file.readline()\r",
      "\r\n",
      "        if not line:\r",
      "\r\n",
      "            self.pattern_file.close()\r",
      "\r\n",
      "            raise StopIteration\r",
      "\r\n",
      "\r",
      "\r\n",
      "        pattern, search, replace = line.split(None, 3)\r",
      "\r\n",
      "        funcs = build_match_and_apply_functions(\r",
      "\r\n",
      "            pattern, search, replace)\r",
      "\r\n",
      "        self.cache.append(funcs)\r",
      "\r\n",
      "        return funcs\r",
      "\r\n",
      "\r",
      "\r\n",
      "rules = LazyRules()\r",
      "\r\n",
      "        \r",
      "\r\n",
      "def plural(noun):\r",
      "\r\n",
      "    for matches_rule, apply_rule in rules:\r",
      "\r\n",
      "        if matches_rule(noun):\r",
      "\r\n",
      "            return apply_rule(noun)\r",
      "\r\n",
      "\r",
      "\r\n",
      "if __name__ == '__main__':\r",
      "\r\n",
      "    import sys\r",
      "\r\n",
      "    if sys.argv[1:]:\r",
      "\r\n",
      "        print(plural(sys.argv[1]))\r",
      "\r\n",
      "    else:\r",
      "\r\n",
      "        print(__doc__)\r",
      "\r\n",
      "\r",
      "\r\n",
      "# Copyright (c) 2009, Mark Pilgrim, All rights reserved.\r",
      "\r\n",
      "# \r",
      "\r\n",
      "# Redistribution and use in source and binary forms, with or without modification,\r",
      "\r\n",
      "# are permitted provided that the following conditions are met:\r",
      "\r\n",
      "# \r",
      "\r\n",
      "# * Redistributions of source code must retain the above copyright notice,\r",
      "\r\n",
      "#   this list of conditions and the following disclaimer.\r",
      "\r\n",
      "# * Redistributions in binary form must reproduce the above copyright notice,\r",
      "\r\n",
      "#   this list of conditions and the following disclaimer in the documentation\r",
      "\r\n",
      "#   and/or other materials provided with the distribution.\r",
      "\r\n",
      "# \r",
      "\r\n",
      "# THIS SOFTWARE IS PROVIDED BY THE COPYRIGHT HOLDERS AND CONTRIBUTORS 'AS IS'\r",
      "\r\n",
      "# AND ANY EXPRESS OR IMPLIED WARRANTIES, INCLUDING, BUT NOT LIMITED TO, THE\r",
      "\r\n",
      "# IMPLIED WARRANTIES OF MERCHANTABILITY AND FITNESS FOR A PARTICULAR PURPOSE\r",
      "\r\n",
      "# ARE DISCLAIMED. IN NO EVENT SHALL THE COPYRIGHT OWNER OR CONTRIBUTORS BE\r",
      "\r\n",
      "# LIABLE FOR ANY DIRECT, INDIRECT, INCIDENTAL, SPECIAL, EXEMPLARY, OR\r",
      "\r\n",
      "# CONSEQUENTIAL DAMAGES (INCLUDING, BUT NOT LIMITED TO, PROCUREMENT OF\r",
      "\r\n",
      "# SUBSTITUTE GOODS OR SERVICES; LOSS OF USE, DATA, OR PROFITS; OR BUSINESS\r",
      "\r\n",
      "# INTERRUPTION) HOWEVER CAUSED AND ON ANY THEORY OF LIABILITY, WHETHER IN\r",
      "\r\n",
      "# CONTRACT, STRICT LIABILITY, OR TORT (INCLUDING NEGLIGENCE OR OTHERWISE)\r",
      "\r\n",
      "# ARISING IN ANY WAY OUT OF THE USE OF THIS SOFTWARE, EVEN IF ADVISED OF THE\r",
      "\r\n",
      "# POSSIBILITY OF SUCH DAMAGE.\r",
      "\r\n"
     ]
    }
   ],
   "source": [
    "!cat plural6.py"
   ]
  },
  {
   "cell_type": "code",
   "execution_count": 61,
   "metadata": {},
   "outputs": [
    {
     "name": "stdout",
     "output_type": "stream",
     "text": [
      "[sxz]$               $    es\r\n",
      "[^aeioudgkprt]h$     $    es\r\n",
      "[^aeiou]y$          y$    ies\r\n",
      "$                    $    s\r\n"
     ]
    }
   ],
   "source": [
    "!cat plural6-rules.txt\n"
   ]
  },
  {
   "cell_type": "markdown",
   "metadata": {},
   "source": [
    "### Let's construct an iterator object, for the pluralization of English words"
   ]
  },
  {
   "cell_type": "code",
   "execution_count": 63,
   "metadata": {},
   "outputs": [],
   "source": [
    "## reusing some of the codes from previous work\n",
    "import re\n",
    "\n",
    "def build_match_and_apply_functions(pattern, search, replace):\n",
    "    \n",
    "    def matches_rule(word):\n",
    "        return re.search(pattern, word) # takes pattern\n",
    "    \n",
    "    def apply_rule(word):\n",
    "        return re.sub(search, replace, word) # takes search and replace\n",
    "    \n",
    "    return(matches_rule, apply_rule)\n",
    "\n",
    "\n",
    "class LazyRules: \n",
    "    rules_filename = \"plural6-rules.txt\" # the file that stores all the grammar patterns\n",
    "    \n",
    "    \n",
    "    def __init__(self):\n",
    "        self.pattern_file = open(self.rules_filename, encoding = \"utf-8\")\n",
    "        self.cache = []\n",
    "        \n",
    "    def __iter__(self):\n",
    "        self.cache_index = 0\n",
    "        return self # returns an iterator, of which we will call __next__() to get the next value\n",
    "    \n",
    "    def __next__(self):\n",
    "        \n",
    "        \n",
    "        \n",
    "        \n",
    "        \n",
    "        ### this part reads the line, store them in a list, build the apply and match functions\n",
    "        ### Before we return the (apply_fun, match_fun) tuple, we cache them\n",
    "        pattern, search, replace = line.split(None, 3)\n",
    "        funcs = build_match_and_apply_functions(pattern, search, replace)\n",
    "        self.cache.append(funcs)\n",
    "        return funcs"
   ]
  },
  {
   "cell_type": "markdown",
   "metadata": {},
   "source": [
    "### Detour to Iterator Lessons"
   ]
  },
  {
   "cell_type": "code",
   "execution_count": 69,
   "metadata": {},
   "outputs": [
    {
     "name": "stdout",
     "output_type": "stream",
     "text": [
      "1\n",
      "2\n",
      "3\n",
      "5\n",
      "8\n",
      "13\n",
      "21\n",
      "34\n"
     ]
    }
   ],
   "source": [
    "class FitIterable:\n",
    "    \"\"\"\n",
    "    Class that generates Fibonacci Numbers;\n",
    "    Well more specifically, it actually generates the third number of Fibonacci sequence\n",
    "    onwards, by default\n",
    "    \"\"\"\n",
    "    \n",
    "    def __init__(self, ilast = 1, isecondlast = 0, imax = 50):\n",
    "        self.ilast = ilast\n",
    "        self.isecondlast = isecondlast\n",
    "        self.imax = imax\n",
    "    \n",
    "    def __iter__(self):\n",
    "        return self\n",
    "    \n",
    "    def __next__(self):\n",
    "        inext = self.ilast + self.isecondlast\n",
    "        if inext > self.imax:\n",
    "            raise StopIteration\n",
    "        self.isecondlast = self.ilast\n",
    "        self.ilast = inext\n",
    "        return inext\n",
    "    \n",
    "foo = FitIterable()\n",
    "for i in foo:\n",
    "    print(i)\n",
    "    "
   ]
  },
  {
   "cell_type": "code",
   "execution_count": 70,
   "metadata": {},
   "outputs": [],
   "source": [
    "## the second time you run the for-loop, nothing will be printed!\n",
    "for i in foo:\n",
    "    print(i)\n",
    "    \n",
    "## try reinitialize "
   ]
  },
  {
   "cell_type": "markdown",
   "metadata": {},
   "source": [
    "### Detour to readline() method"
   ]
  },
  {
   "cell_type": "code",
   "execution_count": 77,
   "metadata": {},
   "outputs": [],
   "source": [
    "!touch foo.txt"
   ]
  },
  {
   "cell_type": "code",
   "execution_count": 79,
   "metadata": {},
   "outputs": [
    {
     "data": {
      "text/plain": [
       "'This is first line.\\n'"
      ]
     },
     "execution_count": 79,
     "metadata": {},
     "output_type": "execute_result"
    }
   ],
   "source": [
    "f = open(\"foo.txt\", \"r\")\n",
    "f.readline() # Note that if you call .readline(), a newline \"\\n\" will be added to the end of the string, marking \n",
    "             # that the readline() will begin at the subsequent line. if only \"\\n\" is returned (i.e empty string)\n",
    "             # this marks the EOF"
   ]
  },
  {
   "cell_type": "code",
   "execution_count": 80,
   "metadata": {},
   "outputs": [
    {
     "data": {
      "text/plain": [
       "'This is second line\\n'"
      ]
     },
     "execution_count": 80,
     "metadata": {},
     "output_type": "execute_result"
    }
   ],
   "source": [
    "f.readline()"
   ]
  },
  {
   "cell_type": "code",
   "execution_count": 86,
   "metadata": {},
   "outputs": [
    {
     "data": {
      "text/plain": [
       "''"
      ]
     },
     "execution_count": 86,
     "metadata": {},
     "output_type": "execute_result"
    }
   ],
   "source": [
    "f.readline()"
   ]
  },
  {
   "cell_type": "code",
   "execution_count": null,
   "metadata": {},
   "outputs": [],
   "source": []
  },
  {
   "cell_type": "code",
   "execution_count": null,
   "metadata": {},
   "outputs": [],
   "source": []
  }
 ],
 "metadata": {
  "kernelspec": {
   "display_name": "Python 3",
   "language": "python",
   "name": "python3"
  },
  "language_info": {
   "codemirror_mode": {
    "name": "ipython",
    "version": 3
   },
   "file_extension": ".py",
   "mimetype": "text/x-python",
   "name": "python",
   "nbconvert_exporter": "python",
   "pygments_lexer": "ipython3",
   "version": "3.5.2"
  }
 },
 "nbformat": 4,
 "nbformat_minor": 1
}
